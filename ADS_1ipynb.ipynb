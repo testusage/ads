{
  "nbformat": 4,
  "nbformat_minor": 0,
  "metadata": {
    "colab": {
      "provenance": []
    },
    "kernelspec": {
      "name": "python3",
      "display_name": "Python 3"
    },
    "language_info": {
      "name": "python"
    }
  },
  "cells": [
    {
      "cell_type": "code",
      "execution_count": null,
      "metadata": {
        "colab": {
          "base_uri": "https://localhost:8080/"
        },
        "id": "yu2pyt2EI2z9",
        "outputId": "63062f72-d203-4c83-8982-498babe6c5dd"
      },
      "outputs": [
        {
          "output_type": "stream",
          "name": "stdout",
          "text": [
            "The unsorted list is:  [5, 3, 8, 6, 7, 2]\n",
            "The sorted list is:  [2, 3, 5, 6, 7, 8]\n"
          ]
        }
      ],
      "source": [
        "#1. Creating a bubble sort function\n",
        "def bubble_sort(list1):\n",
        " # Outer loop for traverse the entire list\n",
        " for i in range(0,len(list1)-1):\n",
        "  for j in range(len(list1)-1):\n",
        "    if(list1[j]>list1[j+1]):\n",
        "      temp = list1[j]\n",
        "      list1[j] = list1[j+1]\n",
        "      list1[j+1] = temp\n",
        "\n",
        " return list1\n",
        "\n",
        "list1 = [5, 3, 8, 6, 7, 2]\n",
        "print(\"The unsorted list is: \", list1)\n",
        "# Calling the bubble sort function\n",
        "print(\"The sorted list is: \", bubble_sort(list1))\n"
      ]
    },
    {
      "cell_type": "code",
      "source": [
        "# Python program for simple calculator\n",
        "# Function to add two numbers\n",
        "def add(num1, num2):\n",
        " return num1 + num2\n",
        "# Function to subtract two numbers\n",
        "def subtract(num1, num2):\n",
        " return num1 - num2\n",
        "# Function to multiply two numbers\n",
        "def multiply(num1, num2):\n",
        " return num1 * num2\n",
        "# Function to divide two numbers\n",
        "def divide(num1, num2):\n",
        " return num1 / num2\n",
        "print(\"Please select operation -\\n\"\n",
        " \"1. Add\\n\" \\\n",
        " \"2. Subtract\\n\" \\\n",
        " \"3. Multiply\\n\" \\\n",
        " \"4. Divide\\n\")\n",
        "# Take input from the user\n",
        "select = int(input(\"Select operations form 1, 2, 3, 4 :\"))\n",
        "number_1 = int(input(\"Enter first number: \"))\n",
        "number_2 = int(input(\"Enter second number: \"))\n",
        "if select == 1:\n",
        " print(number_1, \"+\", number_2, \"=\",\n",
        " add(number_1, number_2))\n",
        "elif select == 2:\n",
        " print(number_1, \"-\", number_2, \"=\",\n",
        " subtract(number_1, number_2))\n",
        "elif select == 3:\n",
        " print(number_1, \"*\", number_2, \"=\",\n",
        " multiply(number_1, number_2))\n",
        "elif select == 4:\n",
        " print(number_1, \"/\", number_2, \"=\",\n",
        " divide(number_1, number_2))\n",
        "else:\n",
        " print(\"Invalid input\")"
      ],
      "metadata": {
        "colab": {
          "base_uri": "https://localhost:8080/"
        },
        "id": "SeaixJlsJP4D",
        "outputId": "af1a3f28-10cd-48e9-ace0-35085d7946ec"
      },
      "execution_count": null,
      "outputs": [
        {
          "output_type": "stream",
          "name": "stdout",
          "text": [
            "Please select operation -\n",
            "1. Add\n",
            "2. Subtract\n",
            "3. Multiply\n",
            "4. Divide\n",
            "\n",
            "Select operations form 1, 2, 3, 4 :2\n",
            "Enter first number: 98\n",
            "Enter second number: 105\n",
            "98 - 105 = -7\n"
          ]
        }
      ]
    }
  ]
}