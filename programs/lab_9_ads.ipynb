{
  "nbformat": 4,
  "nbformat_minor": 0,
  "metadata": {
    "colab": {
      "provenance": []
    },
    "kernelspec": {
      "name": "python3",
      "display_name": "Python 3"
    },
    "language_info": {
      "name": "python"
    }
  },
  "cells": [
    {
      "cell_type": "code",
      "execution_count": null,
      "metadata": {
        "id": "r1rtMZlnb3x9"
      },
      "outputs": [],
      "source": [
        "import pandas as pd\n",
        "import seaborn as sns\n",
        "import matplotlib.pyplot as plt\n",
        "import numpy as np\n",
        "\n"
      ]
    },
    {
      "cell_type": "code",
      "source": [
        "df=pd.read_csv(\"/content/train (1).csv\")"
      ],
      "metadata": {
        "id": "7HSo9hHKegul"
      },
      "execution_count": null,
      "outputs": []
    },
    {
      "cell_type": "code",
      "source": [
        "df.head()"
      ],
      "metadata": {
        "colab": {
          "base_uri": "https://localhost:8080/",
          "height": 255
        },
        "id": "icCAQ2WCegw4",
        "outputId": "17bd0aaf-d754-441d-b89f-da31519167e6"
      },
      "execution_count": null,
      "outputs": [
        {
          "output_type": "execute_result",
          "data": {
            "text/plain": [
              "   battery_power  blue  clock_speed  dual_sim  fc  four_g  int_memory  m_dep  \\\n",
              "0            842     0          2.2         0   1       0           7    0.6   \n",
              "1           1021     1          0.5         1   0       1          53    0.7   \n",
              "2            563     1          0.5         1   2       1          41    0.9   \n",
              "3            615     1          2.5         0   0       0          10    0.8   \n",
              "4           1821     1          1.2         0  13       1          44    0.6   \n",
              "\n",
              "   mobile_wt  n_cores  ...  px_height  px_width   ram  sc_h  sc_w  talk_time  \\\n",
              "0        188        2  ...         20       756  2549     9     7         19   \n",
              "1        136        3  ...        905      1988  2631    17     3          7   \n",
              "2        145        5  ...       1263      1716  2603    11     2          9   \n",
              "3        131        6  ...       1216      1786  2769    16     8         11   \n",
              "4        141        2  ...       1208      1212  1411     8     2         15   \n",
              "\n",
              "   three_g  touch_screen  wifi  price_range  \n",
              "0        0             0     1            1  \n",
              "1        1             1     0            2  \n",
              "2        1             1     0            2  \n",
              "3        1             0     0            2  \n",
              "4        1             1     0            1  \n",
              "\n",
              "[5 rows x 21 columns]"
            ],
            "text/html": [
              "\n",
              "  <div id=\"df-9d055755-a9ea-4cf3-83fa-f2a695482fd0\" class=\"colab-df-container\">\n",
              "    <div>\n",
              "<style scoped>\n",
              "    .dataframe tbody tr th:only-of-type {\n",
              "        vertical-align: middle;\n",
              "    }\n",
              "\n",
              "    .dataframe tbody tr th {\n",
              "        vertical-align: top;\n",
              "    }\n",
              "\n",
              "    .dataframe thead th {\n",
              "        text-align: right;\n",
              "    }\n",
              "</style>\n",
              "<table border=\"1\" class=\"dataframe\">\n",
              "  <thead>\n",
              "    <tr style=\"text-align: right;\">\n",
              "      <th></th>\n",
              "      <th>battery_power</th>\n",
              "      <th>blue</th>\n",
              "      <th>clock_speed</th>\n",
              "      <th>dual_sim</th>\n",
              "      <th>fc</th>\n",
              "      <th>four_g</th>\n",
              "      <th>int_memory</th>\n",
              "      <th>m_dep</th>\n",
              "      <th>mobile_wt</th>\n",
              "      <th>n_cores</th>\n",
              "      <th>...</th>\n",
              "      <th>px_height</th>\n",
              "      <th>px_width</th>\n",
              "      <th>ram</th>\n",
              "      <th>sc_h</th>\n",
              "      <th>sc_w</th>\n",
              "      <th>talk_time</th>\n",
              "      <th>three_g</th>\n",
              "      <th>touch_screen</th>\n",
              "      <th>wifi</th>\n",
              "      <th>price_range</th>\n",
              "    </tr>\n",
              "  </thead>\n",
              "  <tbody>\n",
              "    <tr>\n",
              "      <th>0</th>\n",
              "      <td>842</td>\n",
              "      <td>0</td>\n",
              "      <td>2.2</td>\n",
              "      <td>0</td>\n",
              "      <td>1</td>\n",
              "      <td>0</td>\n",
              "      <td>7</td>\n",
              "      <td>0.6</td>\n",
              "      <td>188</td>\n",
              "      <td>2</td>\n",
              "      <td>...</td>\n",
              "      <td>20</td>\n",
              "      <td>756</td>\n",
              "      <td>2549</td>\n",
              "      <td>9</td>\n",
              "      <td>7</td>\n",
              "      <td>19</td>\n",
              "      <td>0</td>\n",
              "      <td>0</td>\n",
              "      <td>1</td>\n",
              "      <td>1</td>\n",
              "    </tr>\n",
              "    <tr>\n",
              "      <th>1</th>\n",
              "      <td>1021</td>\n",
              "      <td>1</td>\n",
              "      <td>0.5</td>\n",
              "      <td>1</td>\n",
              "      <td>0</td>\n",
              "      <td>1</td>\n",
              "      <td>53</td>\n",
              "      <td>0.7</td>\n",
              "      <td>136</td>\n",
              "      <td>3</td>\n",
              "      <td>...</td>\n",
              "      <td>905</td>\n",
              "      <td>1988</td>\n",
              "      <td>2631</td>\n",
              "      <td>17</td>\n",
              "      <td>3</td>\n",
              "      <td>7</td>\n",
              "      <td>1</td>\n",
              "      <td>1</td>\n",
              "      <td>0</td>\n",
              "      <td>2</td>\n",
              "    </tr>\n",
              "    <tr>\n",
              "      <th>2</th>\n",
              "      <td>563</td>\n",
              "      <td>1</td>\n",
              "      <td>0.5</td>\n",
              "      <td>1</td>\n",
              "      <td>2</td>\n",
              "      <td>1</td>\n",
              "      <td>41</td>\n",
              "      <td>0.9</td>\n",
              "      <td>145</td>\n",
              "      <td>5</td>\n",
              "      <td>...</td>\n",
              "      <td>1263</td>\n",
              "      <td>1716</td>\n",
              "      <td>2603</td>\n",
              "      <td>11</td>\n",
              "      <td>2</td>\n",
              "      <td>9</td>\n",
              "      <td>1</td>\n",
              "      <td>1</td>\n",
              "      <td>0</td>\n",
              "      <td>2</td>\n",
              "    </tr>\n",
              "    <tr>\n",
              "      <th>3</th>\n",
              "      <td>615</td>\n",
              "      <td>1</td>\n",
              "      <td>2.5</td>\n",
              "      <td>0</td>\n",
              "      <td>0</td>\n",
              "      <td>0</td>\n",
              "      <td>10</td>\n",
              "      <td>0.8</td>\n",
              "      <td>131</td>\n",
              "      <td>6</td>\n",
              "      <td>...</td>\n",
              "      <td>1216</td>\n",
              "      <td>1786</td>\n",
              "      <td>2769</td>\n",
              "      <td>16</td>\n",
              "      <td>8</td>\n",
              "      <td>11</td>\n",
              "      <td>1</td>\n",
              "      <td>0</td>\n",
              "      <td>0</td>\n",
              "      <td>2</td>\n",
              "    </tr>\n",
              "    <tr>\n",
              "      <th>4</th>\n",
              "      <td>1821</td>\n",
              "      <td>1</td>\n",
              "      <td>1.2</td>\n",
              "      <td>0</td>\n",
              "      <td>13</td>\n",
              "      <td>1</td>\n",
              "      <td>44</td>\n",
              "      <td>0.6</td>\n",
              "      <td>141</td>\n",
              "      <td>2</td>\n",
              "      <td>...</td>\n",
              "      <td>1208</td>\n",
              "      <td>1212</td>\n",
              "      <td>1411</td>\n",
              "      <td>8</td>\n",
              "      <td>2</td>\n",
              "      <td>15</td>\n",
              "      <td>1</td>\n",
              "      <td>1</td>\n",
              "      <td>0</td>\n",
              "      <td>1</td>\n",
              "    </tr>\n",
              "  </tbody>\n",
              "</table>\n",
              "<p>5 rows × 21 columns</p>\n",
              "</div>\n",
              "    <div class=\"colab-df-buttons\">\n",
              "\n",
              "  <div class=\"colab-df-container\">\n",
              "    <button class=\"colab-df-convert\" onclick=\"convertToInteractive('df-9d055755-a9ea-4cf3-83fa-f2a695482fd0')\"\n",
              "            title=\"Convert this dataframe to an interactive table.\"\n",
              "            style=\"display:none;\">\n",
              "\n",
              "  <svg xmlns=\"http://www.w3.org/2000/svg\" height=\"24px\" viewBox=\"0 -960 960 960\">\n",
              "    <path d=\"M120-120v-720h720v720H120Zm60-500h600v-160H180v160Zm220 220h160v-160H400v160Zm0 220h160v-160H400v160ZM180-400h160v-160H180v160Zm440 0h160v-160H620v160ZM180-180h160v-160H180v160Zm440 0h160v-160H620v160Z\"/>\n",
              "  </svg>\n",
              "    </button>\n",
              "\n",
              "  <style>\n",
              "    .colab-df-container {\n",
              "      display:flex;\n",
              "      gap: 12px;\n",
              "    }\n",
              "\n",
              "    .colab-df-convert {\n",
              "      background-color: #E8F0FE;\n",
              "      border: none;\n",
              "      border-radius: 50%;\n",
              "      cursor: pointer;\n",
              "      display: none;\n",
              "      fill: #1967D2;\n",
              "      height: 32px;\n",
              "      padding: 0 0 0 0;\n",
              "      width: 32px;\n",
              "    }\n",
              "\n",
              "    .colab-df-convert:hover {\n",
              "      background-color: #E2EBFA;\n",
              "      box-shadow: 0px 1px 2px rgba(60, 64, 67, 0.3), 0px 1px 3px 1px rgba(60, 64, 67, 0.15);\n",
              "      fill: #174EA6;\n",
              "    }\n",
              "\n",
              "    .colab-df-buttons div {\n",
              "      margin-bottom: 4px;\n",
              "    }\n",
              "\n",
              "    [theme=dark] .colab-df-convert {\n",
              "      background-color: #3B4455;\n",
              "      fill: #D2E3FC;\n",
              "    }\n",
              "\n",
              "    [theme=dark] .colab-df-convert:hover {\n",
              "      background-color: #434B5C;\n",
              "      box-shadow: 0px 1px 3px 1px rgba(0, 0, 0, 0.15);\n",
              "      filter: drop-shadow(0px 1px 2px rgba(0, 0, 0, 0.3));\n",
              "      fill: #FFFFFF;\n",
              "    }\n",
              "  </style>\n",
              "\n",
              "    <script>\n",
              "      const buttonEl =\n",
              "        document.querySelector('#df-9d055755-a9ea-4cf3-83fa-f2a695482fd0 button.colab-df-convert');\n",
              "      buttonEl.style.display =\n",
              "        google.colab.kernel.accessAllowed ? 'block' : 'none';\n",
              "\n",
              "      async function convertToInteractive(key) {\n",
              "        const element = document.querySelector('#df-9d055755-a9ea-4cf3-83fa-f2a695482fd0');\n",
              "        const dataTable =\n",
              "          await google.colab.kernel.invokeFunction('convertToInteractive',\n",
              "                                                    [key], {});\n",
              "        if (!dataTable) return;\n",
              "\n",
              "        const docLinkHtml = 'Like what you see? Visit the ' +\n",
              "          '<a target=\"_blank\" href=https://colab.research.google.com/notebooks/data_table.ipynb>data table notebook</a>'\n",
              "          + ' to learn more about interactive tables.';\n",
              "        element.innerHTML = '';\n",
              "        dataTable['output_type'] = 'display_data';\n",
              "        await google.colab.output.renderOutput(dataTable, element);\n",
              "        const docLink = document.createElement('div');\n",
              "        docLink.innerHTML = docLinkHtml;\n",
              "        element.appendChild(docLink);\n",
              "      }\n",
              "    </script>\n",
              "  </div>\n",
              "\n",
              "\n",
              "<div id=\"df-b7b23c1f-ad88-4b2a-a805-1c291979a179\">\n",
              "  <button class=\"colab-df-quickchart\" onclick=\"quickchart('df-b7b23c1f-ad88-4b2a-a805-1c291979a179')\"\n",
              "            title=\"Suggest charts\"\n",
              "            style=\"display:none;\">\n",
              "\n",
              "<svg xmlns=\"http://www.w3.org/2000/svg\" height=\"24px\"viewBox=\"0 0 24 24\"\n",
              "     width=\"24px\">\n",
              "    <g>\n",
              "        <path d=\"M19 3H5c-1.1 0-2 .9-2 2v14c0 1.1.9 2 2 2h14c1.1 0 2-.9 2-2V5c0-1.1-.9-2-2-2zM9 17H7v-7h2v7zm4 0h-2V7h2v10zm4 0h-2v-4h2v4z\"/>\n",
              "    </g>\n",
              "</svg>\n",
              "  </button>\n",
              "\n",
              "<style>\n",
              "  .colab-df-quickchart {\n",
              "      --bg-color: #E8F0FE;\n",
              "      --fill-color: #1967D2;\n",
              "      --hover-bg-color: #E2EBFA;\n",
              "      --hover-fill-color: #174EA6;\n",
              "      --disabled-fill-color: #AAA;\n",
              "      --disabled-bg-color: #DDD;\n",
              "  }\n",
              "\n",
              "  [theme=dark] .colab-df-quickchart {\n",
              "      --bg-color: #3B4455;\n",
              "      --fill-color: #D2E3FC;\n",
              "      --hover-bg-color: #434B5C;\n",
              "      --hover-fill-color: #FFFFFF;\n",
              "      --disabled-bg-color: #3B4455;\n",
              "      --disabled-fill-color: #666;\n",
              "  }\n",
              "\n",
              "  .colab-df-quickchart {\n",
              "    background-color: var(--bg-color);\n",
              "    border: none;\n",
              "    border-radius: 50%;\n",
              "    cursor: pointer;\n",
              "    display: none;\n",
              "    fill: var(--fill-color);\n",
              "    height: 32px;\n",
              "    padding: 0;\n",
              "    width: 32px;\n",
              "  }\n",
              "\n",
              "  .colab-df-quickchart:hover {\n",
              "    background-color: var(--hover-bg-color);\n",
              "    box-shadow: 0 1px 2px rgba(60, 64, 67, 0.3), 0 1px 3px 1px rgba(60, 64, 67, 0.15);\n",
              "    fill: var(--button-hover-fill-color);\n",
              "  }\n",
              "\n",
              "  .colab-df-quickchart-complete:disabled,\n",
              "  .colab-df-quickchart-complete:disabled:hover {\n",
              "    background-color: var(--disabled-bg-color);\n",
              "    fill: var(--disabled-fill-color);\n",
              "    box-shadow: none;\n",
              "  }\n",
              "\n",
              "  .colab-df-spinner {\n",
              "    border: 2px solid var(--fill-color);\n",
              "    border-color: transparent;\n",
              "    border-bottom-color: var(--fill-color);\n",
              "    animation:\n",
              "      spin 1s steps(1) infinite;\n",
              "  }\n",
              "\n",
              "  @keyframes spin {\n",
              "    0% {\n",
              "      border-color: transparent;\n",
              "      border-bottom-color: var(--fill-color);\n",
              "      border-left-color: var(--fill-color);\n",
              "    }\n",
              "    20% {\n",
              "      border-color: transparent;\n",
              "      border-left-color: var(--fill-color);\n",
              "      border-top-color: var(--fill-color);\n",
              "    }\n",
              "    30% {\n",
              "      border-color: transparent;\n",
              "      border-left-color: var(--fill-color);\n",
              "      border-top-color: var(--fill-color);\n",
              "      border-right-color: var(--fill-color);\n",
              "    }\n",
              "    40% {\n",
              "      border-color: transparent;\n",
              "      border-right-color: var(--fill-color);\n",
              "      border-top-color: var(--fill-color);\n",
              "    }\n",
              "    60% {\n",
              "      border-color: transparent;\n",
              "      border-right-color: var(--fill-color);\n",
              "    }\n",
              "    80% {\n",
              "      border-color: transparent;\n",
              "      border-right-color: var(--fill-color);\n",
              "      border-bottom-color: var(--fill-color);\n",
              "    }\n",
              "    90% {\n",
              "      border-color: transparent;\n",
              "      border-bottom-color: var(--fill-color);\n",
              "    }\n",
              "  }\n",
              "</style>\n",
              "\n",
              "  <script>\n",
              "    async function quickchart(key) {\n",
              "      const quickchartButtonEl =\n",
              "        document.querySelector('#' + key + ' button');\n",
              "      quickchartButtonEl.disabled = true;  // To prevent multiple clicks.\n",
              "      quickchartButtonEl.classList.add('colab-df-spinner');\n",
              "      try {\n",
              "        const charts = await google.colab.kernel.invokeFunction(\n",
              "            'suggestCharts', [key], {});\n",
              "      } catch (error) {\n",
              "        console.error('Error during call to suggestCharts:', error);\n",
              "      }\n",
              "      quickchartButtonEl.classList.remove('colab-df-spinner');\n",
              "      quickchartButtonEl.classList.add('colab-df-quickchart-complete');\n",
              "    }\n",
              "    (() => {\n",
              "      let quickchartButtonEl =\n",
              "        document.querySelector('#df-b7b23c1f-ad88-4b2a-a805-1c291979a179 button');\n",
              "      quickchartButtonEl.style.display =\n",
              "        google.colab.kernel.accessAllowed ? 'block' : 'none';\n",
              "    })();\n",
              "  </script>\n",
              "</div>\n",
              "\n",
              "    </div>\n",
              "  </div>\n"
            ]
          },
          "metadata": {},
          "execution_count": 20
        }
      ]
    },
    {
      "cell_type": "code",
      "source": [
        "print(\"coloum\",df.columns)\n",
        "print(\"shape\",df.shape)"
      ],
      "metadata": {
        "colab": {
          "base_uri": "https://localhost:8080/"
        },
        "id": "Gtcl1XPSegzI",
        "outputId": "64f53b4c-a55d-46db-9cf9-de537f26286e"
      },
      "execution_count": null,
      "outputs": [
        {
          "output_type": "stream",
          "name": "stdout",
          "text": [
            "coloum Index(['battery_power', 'blue', 'clock_speed', 'dual_sim', 'fc', 'four_g',\n",
            "       'int_memory', 'm_dep', 'mobile_wt', 'n_cores', 'pc', 'px_height',\n",
            "       'px_width', 'ram', 'sc_h', 'sc_w', 'talk_time', 'three_g',\n",
            "       'touch_screen', 'wifi', 'price_range'],\n",
            "      dtype='object')\n",
            "shape (2000, 21)\n"
          ]
        }
      ]
    },
    {
      "cell_type": "code",
      "source": [
        "corr=df.corr()\n",
        "corr.sort_values(by=[\"price_range\"],ascending=False).iloc[0].sort_values(ascending=False)"
      ],
      "metadata": {
        "colab": {
          "base_uri": "https://localhost:8080/"
        },
        "id": "ESYC-g0Jeg1V",
        "outputId": "e20a661f-5b60-4cbf-8509-6c036c1f96d0"
      },
      "execution_count": null,
      "outputs": [
        {
          "output_type": "execute_result",
          "data": {
            "text/plain": [
              "price_range      1.000000\n",
              "ram              0.917046\n",
              "battery_power    0.200723\n",
              "px_width         0.165818\n",
              "px_height        0.148858\n",
              "int_memory       0.044435\n",
              "sc_w             0.038711\n",
              "pc               0.033599\n",
              "three_g          0.023611\n",
              "sc_h             0.022986\n",
              "fc               0.021998\n",
              "talk_time        0.021859\n",
              "blue             0.020573\n",
              "wifi             0.018785\n",
              "dual_sim         0.017444\n",
              "four_g           0.014772\n",
              "n_cores          0.004399\n",
              "m_dep            0.000853\n",
              "clock_speed     -0.006606\n",
              "mobile_wt       -0.030302\n",
              "touch_screen    -0.030411\n",
              "Name: price_range, dtype: float64"
            ]
          },
          "metadata": {},
          "execution_count": 22
        }
      ]
    },
    {
      "cell_type": "code",
      "source": [
        "y=df['price_range'].values\n",
        "x=df.drop(['price_range'],axis=1)"
      ],
      "metadata": {
        "id": "X2SRka9qeg30"
      },
      "execution_count": null,
      "outputs": []
    },
    {
      "cell_type": "code",
      "source": [
        "from sklearn.model_selection import train_test_split\n",
        "\n",
        "# Assuming x contains the features and y contains the target variable\n",
        "x_train, x_test, y_train, y_test = train_test_split(x, y, test_size=0.2, random_state=45)\n"
      ],
      "metadata": {
        "id": "rMG_krykeg8q"
      },
      "execution_count": null,
      "outputs": []
    },
    {
      "cell_type": "code",
      "source": [
        "from yellowbrick.target import ClassBalance\n",
        "visualizer =ClassBalance(labels=[0,1,2,3])\n",
        "visualizer.fit(y_train,y_test)\n",
        "visualizer.poof()"
      ],
      "metadata": {
        "colab": {
          "base_uri": "https://localhost:8080/",
          "height": 521
        },
        "id": "_3BXp230eg-o",
        "outputId": "08b3e02f-198d-4937-c6d1-1bb3bf62e656"
      },
      "execution_count": null,
      "outputs": [
        {
          "output_type": "display_data",
          "data": {
            "text/plain": [
              "<Figure size 800x550 with 1 Axes>"
            ],
            "image/png": "[encoded data removed]"
          },
          "metadata": {}
        },
        {
          "output_type": "execute_result",
          "data": {
            "text/plain": [
              "<Axes: title={'center': 'Class Balance for 2,000 Instances'}, ylabel='support'>"
            ]
          },
          "metadata": {},
          "execution_count": 25
        }
      ]
    },
    {
      "cell_type": "code",
      "source": [
        "from sklearn.svm import SVC\n",
        "svm1=SVC(random_state=45)\n",
        "svm1.fit(x_train,y_train)\n",
        "y_pred=svm1.predict(x_test)\n",
        "print(\"train accuracy\",svm1.score(x_train,y_train))\n",
        "print(\"test accuracy\",svm1.score(x_test,y_test))\n",
        "from sklearn.metrics import accuracy_score\n",
        "acc1=accuracy_score(y_test,y_pred)\n",
        "print(\"model accuracy score with default hyperparameter:{0:0.4f}\".format(acc1))\n"
      ],
      "metadata": {
        "colab": {
          "base_uri": "https://localhost:8080/"
        },
        "id": "ZkHCIzCmhsb_",
        "outputId": "3ab8a702-9de7-4103-b8e1-b31c6ca2677c"
      },
      "execution_count": null,
      "outputs": [
        {
          "output_type": "stream",
          "name": "stdout",
          "text": [
            "train accuracy 0.951875\n",
            "test accuracy 0.96\n",
            "model accuracy score with default hyperparameter:0.9600\n"
          ]
        }
      ]
    },
    {
      "cell_type": "code",
      "source": [
        "from sklearn.metrics import confusion_matrix\n",
        "cm=confusion_matrix(y_test,y_pred)\n",
        "sns.heatmap(cm,annot=True)\n",
        "plt.show()"
      ],
      "metadata": {
        "colab": {
          "base_uri": "https://localhost:8080/",
          "height": 484
        },
        "id": "V2G09TWThxv9",
        "outputId": "7451ab27-c2dc-4a50-9b8f-0769f3972d62"
      },
      "execution_count": null,
      "outputs": [
        {
          "output_type": "display_data",
          "data": {
            "text/plain": [
              "<Figure size 800x550 with 2 Axes>"
            ],
            "image/png": "[encoded data removed]"
          },
          "metadata": {}
        }
      ]
    },
    {
      "cell_type": "code",
      "source": [
        "#from sklearn.feature_selection import SelectKBest\n",
        "#from sklearn.feature_selection import f_classif"
      ],
      "metadata": {
        "id": "-8SKwxj9hyOh"
      },
      "execution_count": null,
      "outputs": []
    },
    {
      "cell_type": "code",
      "source": [
        "accuracy_list_train=[]"
      ],
      "metadata": {
        "id": "xWzX38cJhyTJ"
      },
      "execution_count": null,
      "outputs": []
    },
    {
      "cell_type": "code",
      "source": [
        "import pandas as pd\n",
        "url=\"https://archive.ics.uci.edu/ml/machine-learning-databases/wine-quality/winequality-white.csv\"\n",
        "df=pd.read_csv(url,sep=';')\n",
        "df\n",
        "\n",
        "from sklearn.model_selection import train_test_split\n",
        "from sklearn.metrics import classification_report,confusion_matrix\n",
        "from sklearn.naive_bayes import GaussianNB\n",
        "import matplotlib.pyplot as plt\n",
        "import seaborn as sns\n",
        "\n",
        "X=df.drop('quality',axis=1)\n",
        "Y=df['quality']\n",
        "x_train,x_test,y_train,y_test=train_test_split(X,Y,train_size=0.8,random_state=42)\n",
        "\n",
        "NB=GaussianNB()\n",
        "NB.fit(x_train,y_train)\n",
        "y_pred=NB.predict(x_test)\n",
        "print(y_pred)\n",
        "print(y_test)\n",
        "print('Classification Report :\\n',classification_report(y_test,y_pred))\n",
        "\n",
        "\n",
        "cm=confusion_matrix(y_test,y_pred)\n",
        "fig,ax=plt.subplots(figsize=(5,5))\n",
        "sns.heatmap(cm,annot=True,fmt='d',cmap=plt.cm.Blues,cbar=True)\n",
        "plt.xlabel('Predicted')\n",
        "plt.ylabel('Actual')\n",
        "plt.title('Confusion Matrix')\n",
        "plt.show()\n",
        "\n"
      ],
      "metadata": {
        "id": "Q1EWVo8IucYu",
        "colab": {
          "base_uri": "https://localhost:8080/",
          "height": 1000
        },
        "outputId": "af95aa76-833a-43f6-a239-9732028921b0"
      },
      "execution_count": null,
      "outputs": [
        {
          "output_type": "stream",
          "name": "stdout",
          "text": [
            "[6 7 7 6 7 5 5 6 6 5 7 5 7 6 6 5 7 7 7 6 6 7 5 6 6 6 5 7 5 5 5 5 5 6 5 7 7\n",
            " 5 5 6 5 5 7 7 5 6 5 5 5 5 5 5 6 7 6 7 6 7 7 5 6 6 6 7 6 7 7 5 7 5 5 7 4 4\n",
            " 5 6 7 7 7 6 5 6 7 6 7 7 5 6 6 6 7 3 5 7 6 7 7 6 5 7 5 7 7 5 7 6 5 7 7 7 7\n",
            " 6 7 5 5 7 7 7 5 5 6 7 6 5 7 7 7 6 7 5 7 5 6 7 6 5 6 5 7 5 7 5 4 6 7 5 5 6\n",
            " 5 5 7 7 7 7 7 4 7 6 7 3 5 5 6 3 6 7 5 7 5 7 5 7 7 5 7 7 5 7 7 7 6 6 7 7 5\n",
            " 6 7 5 5 3 5 6 7 7 5 5 7 7 6 7 6 4 7 6 6 7 8 7 5 7 5 7 7 7 4 6 6 6 6 7 5 5\n",
            " 6 7 7 6 6 7 7 5 6 5 7 6 5 7 7 5 5 5 6 4 7 6 7 6 6 5 6 5 5 7 6 6 7 5 7 5 6\n",
            " 6 6 5 6 4 7 7 5 5 6 6 5 6 6 7 5 6 6 6 7 5 7 5 7 5 5 7 8 6 5 6 7 7 6 5 7 6\n",
            " 6 6 5 6 5 5 3 7 7 5 3 6 7 7 6 5 6 6 6 7 7 7 5 7 7 6 7 7 6 6 7 5 7 5 6 7 6\n",
            " 6 6 7 7 7 7 5 6 6 5 5 5 7 7 5 5 5 7 7 7 5 7 6 6 7 7 6 5 5 6 5 6 5 5 5 6 6\n",
            " 5 6 6 5 7 6 7 5 5 6 7 7 5 7 6 6 6 6 5 5 5 7 5 5 5 5 4 7 7 6 4 6 7 7 6 7 7\n",
            " 5 7 7 5 6 7 6 5 6 4 6 4 6 7 5 5 7 7 7 5 7 6 6 7 7 6 7 7 5 6 6 5 7 5 6 6 6\n",
            " 5 7 7 7 5 5 5 5 6 7 7 5 5 7 5 6 6 7 6 6 7 7 7 6 7 5 5 7 7 5 5 6 5 6 7 5 6\n",
            " 5 5 5 5 7 6 6 5 3 7 5 7 5 6 7 7 5 6 5 7 6 5 7 6 7 6 5 5 7 7 5 5 5 5 5 5 5\n",
            " 6 5 6 5 6 5 6 5 7 7 6 3 7 5 5 6 6 5 7 8 4 6 5 6 7 7 7 6 6 3 7 7 6 7 7 6 7\n",
            " 5 7 7 5 5 5 7 5 5 7 6 5 6 6 5 7 7 7 6 7 6 6 5 7 7 5 7 3 5 7 6 7 5 5 7 5 7\n",
            " 5 7 6 7 7 7 5 6 5 7 5 4 7 8 6 5 5 6 5 7 6 6 5 5 7 5 6 6 5 7 5 7 6 6 6 4 4\n",
            " 7 5 5 7 6 5 5 7 5 3 6 6 9 7 5 6 5 7 6 7 5 7 7 6 7 5 7 6 5 6 7 7 7 7 6 7 6\n",
            " 8 5 7 6 6 7 5 6 7 5 6 7 6 7 7 6 7 5 5 6 6 6 7 7 6 6 5 7 7 7 6 7 7 4 5 5 6\n",
            " 7 6 6 7 7 6 5 5 7 7 7 5 7 5 7 5 7 5 4 5 7 6 7 6 6 6 5 5 7 6 6 5 6 7 6 5 6\n",
            " 5 6 7 8 7 7 6 5 7 7 5 5 7 8 5 5 7 5 6 5 7 5 7 7 6 7 6 7 6 6 5 7 5 6 5 5 7\n",
            " 5 7 6 5 5 6 6 7 7 7 5 5 7 5 7 5 6 5 3 3 6 4 5 7 6 5 5 7 6 6 5 7 7 5 7 5 7\n",
            " 6 5 7 6 6 7 7 4 7 6 5 5 7 7 5 7 7 5 6 7 7 7 6 5 6 7 7 7 5 6 7 6 6 6 6 6 6\n",
            " 7 5 4 6 6 6 6 5 7 4 5 5 7 6 7 7 6 6 7 5 7 7 5 6 4 7 7 5 6 5 6 7 7 7 7 5 7\n",
            " 5 6 6 7 7 7 5 7 7 6 5 5 6 5 6 5 5 7 7 7 7 6 5 4 5 5 7 5 6 7 6 7 5 6 7 8 7\n",
            " 5 7 6 6 5 7 5 6 4 5 7 7 5 6 5 5 7 5 6 6 5 5 6 5 6 5 6 7 7 6 7 7 7 5 7 7 6\n",
            " 6 4 5 5 6 5 7 3 7 5 5 5 6 7 6 5 5 6]\n",
            "4656    7\n",
            "3659    8\n",
            "907     8\n",
            "4352    5\n",
            "3271    7\n",
            "       ..\n",
            "3207    6\n",
            "1539    6\n",
            "964     6\n",
            "168     5\n",
            "3661    6\n",
            "Name: quality, Length: 980, dtype: int64\n",
            "Classification Report :\n",
            "               precision    recall  f1-score   support\n",
            "\n",
            "           3       0.14      0.40      0.21         5\n",
            "           4       0.23      0.24      0.24        25\n",
            "           5       0.51      0.53      0.52       291\n",
            "           6       0.52      0.33      0.41       432\n",
            "           7       0.35      0.64      0.45       192\n",
            "           8       0.00      0.00      0.00        35\n",
            "           9       0.00      0.00      0.00         0\n",
            "\n",
            "    accuracy                           0.44       980\n",
            "   macro avg       0.25      0.31      0.26       980\n",
            "weighted avg       0.46      0.44      0.43       980\n",
            "\n"
          ]
        },
        {
          "output_type": "stream",
          "name": "stderr",
          "text": [
            "/usr/local/lib/python3.10/dist-packages/sklearn/metrics/_classification.py:1344: UndefinedMetricWarning: Recall and F-score are ill-defined and being set to 0.0 in labels with no true samples. Use `zero_division` parameter to control this behavior.\n",
            "  _warn_prf(average, modifier, msg_start, len(result))\n",
            "/usr/local/lib/python3.10/dist-packages/sklearn/metrics/_classification.py:1344: UndefinedMetricWarning: Recall and F-score are ill-defined and being set to 0.0 in labels with no true samples. Use `zero_division` parameter to control this behavior.\n",
            "  _warn_prf(average, modifier, msg_start, len(result))\n",
            "/usr/local/lib/python3.10/dist-packages/sklearn/metrics/_classification.py:1344: UndefinedMetricWarning: Recall and F-score are ill-defined and being set to 0.0 in labels with no true samples. Use `zero_division` parameter to control this behavior.\n",
            "  _warn_prf(average, modifier, msg_start, len(result))\n"
          ]
        },
        {
          "output_type": "display_data",
          "data": {
            "text/plain": [
              "<Figure size 500x500 with 2 Axes>"
            ],
            "image/png": "[encoded data removed]"
          },
          "metadata": {}
        }
      ]
    },
    {
      "cell_type": "code",
      "source": [
        "proba=NB.predict_proba(x_test)\n",
        "plt.hist(proba[:,1],bins=50,alpha=0.5,label='Positive Class')\n",
        "plt.hist(proba[:,0],bins=50,alpha=0.5,label='Negative Class')\n",
        "plt.xlabel('Predicted Probability')\n",
        "plt.ylabel('Count')\n",
        "plt.title('Histogram of Predicted Class Probabilities')\n",
        "plt.legend()\n",
        "plt.show()"
      ],
      "metadata": {
        "id": "PHmo2giQUqsR",
        "colab": {
          "base_uri": "https://localhost:8080/",
          "height": 524
        },
        "outputId": "967b6383-4e52-4d5a-c00c-f512dc423ca9"
      },
      "execution_count": null,
      "outputs": [
        {
          "output_type": "display_data",
          "data": {
            "text/plain": [
              "<Figure size 800x550 with 1 Axes>"
            ],
            "image/png": "[encoded data removed]"
          },
          "metadata": {}
        }
      ]
    }
  ]
}